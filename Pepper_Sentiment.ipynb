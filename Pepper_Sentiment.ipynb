{
 "cells": [
  {
   "cell_type": "code",
   "execution_count": 1,
   "metadata": {},
   "outputs": [],
   "source": [
    "import random\n",
    "import nltk\n",
    "from nltk.sentiment import SentimentAnalyzer\n",
    "from nltk.sentiment.util import *"
   ]
  },
  {
   "cell_type": "code",
   "execution_count": 119,
   "metadata": {},
   "outputs": [],
   "source": [
    "teargas = []\n",
    "pepperspray = []\n",
    "nonlethal = []\n",
    "mace = []\n",
    "selfdefense = []\n",
    "\n",
    "sentiment_scores = {}\n",
    "\n",
    "with open(\"tidytext_sentiments.txt\",'r') as infile :\n",
    "    next(infile)\n",
    "    for line in infile.readlines() :\n",
    "        line = line.strip().split(\"\\t\")\n",
    "        if line[1] == \"positive\" :\n",
    "            sentiment_scores[line[0]] = 1\n",
    "        else :\n",
    "            sentiment_scores[line[0]] = -1\n",
    "\n",
    "\n",
    "\n",
    "with open(\"20201019_Sentiment_tweets.txt\",'r', encoding = 'UTF-8') as infile :\n",
    "    next(infile)\n",
    "    for idx, line in enumerate(infile.readlines()) :\n",
    "        line = line.strip().strip(\"[\").strip(\"]\").replace(\"'\",\"\").split(\"\\t\")\n",
    "        line = [element.strip().replace(\"\\\\n\",\" \").replace(\"\\n\",\" \") for element in line]\n",
    "        \n",
    "        \n",
    "        if line[0] == 'teargas':\n",
    "            line = line[-1].lower().strip().split()\n",
    "            teargas.append(line)\n",
    "        elif line[0] == 'pepperspray':\n",
    "            line = line[-1].lower().strip().split()\n",
    "            pepperspray.append(line)\n",
    "        elif line[0] == 'nonlethal':\n",
    "            line = line[-1].lower().strip().split()\n",
    "            nonlethal.append(line)\n",
    "        elif line[0] == 'mace':\n",
    "            line = line[-1].lower().strip().split()\n",
    "            mace.append(line)\n",
    "        else:\n",
    "            line = line[-1].lower().strip().split()\n",
    "            selfdefense.append(line)\n",
    "            "
   ]
  },
  {
   "cell_type": "code",
   "execution_count": 125,
   "metadata": {},
   "outputs": [
    {
     "name": "stdout",
     "output_type": "stream",
     "text": [
      "[['@magnetvikki', '@instablog9ja', 'na', 'man', 'wey', 'return', 'teargas', 'na', 'him', 'we', 'go', 'loyal', 'to']]\n"
     ]
    }
   ],
   "source": [
    "print(teargas[:1])"
   ]
  },
  {
   "cell_type": "code",
   "execution_count": 111,
   "metadata": {
    "scrolled": true
   },
   "outputs": [
    {
     "data": {
      "text/plain": [
       "6599"
      ]
     },
     "execution_count": 111,
     "metadata": {},
     "output_type": "execute_result"
    }
   ],
   "source": [
    "len(teargas)"
   ]
  },
  {
   "cell_type": "code",
   "execution_count": 113,
   "metadata": {},
   "outputs": [
    {
     "ename": "TypeError",
     "evalue": "unhashable type: 'list'",
     "output_type": "error",
     "traceback": [
      "\u001b[1;31m---------------------------------------------------------------------------\u001b[0m",
      "\u001b[1;31mTypeError\u001b[0m                                 Traceback (most recent call last)",
      "\u001b[1;32m<ipython-input-113-46b586954fad>\u001b[0m in \u001b[0;36m<module>\u001b[1;34m\u001b[0m\n\u001b[0;32m      3\u001b[0m \u001b[1;33m\u001b[0m\u001b[0m\n\u001b[0;32m      4\u001b[0m \u001b[1;32mfor\u001b[0m \u001b[0midx\u001b[0m\u001b[1;33m,\u001b[0m \u001b[0mline\u001b[0m \u001b[1;32min\u001b[0m \u001b[0menumerate\u001b[0m\u001b[1;33m(\u001b[0m\u001b[0mteargas\u001b[0m\u001b[1;33m)\u001b[0m \u001b[1;33m:\u001b[0m\u001b[1;33m\u001b[0m\u001b[1;33m\u001b[0m\u001b[0m\n\u001b[1;32m----> 5\u001b[1;33m     \u001b[1;32mif\u001b[0m \u001b[0mtext\u001b[0m \u001b[1;32min\u001b[0m \u001b[0msentiment_scores\u001b[0m \u001b[1;33m:\u001b[0m\u001b[1;33m\u001b[0m\u001b[1;33m\u001b[0m\u001b[0m\n\u001b[0m\u001b[0;32m      6\u001b[0m         \u001b[0mcurrent_score\u001b[0m \u001b[1;33m+=\u001b[0m \u001b[0msentiment_scores\u001b[0m\u001b[1;33m[\u001b[0m\u001b[0mword\u001b[0m\u001b[1;33m.\u001b[0m\u001b[0mlower\u001b[0m\u001b[1;33m(\u001b[0m\u001b[1;33m)\u001b[0m\u001b[1;33m]\u001b[0m\u001b[1;33m\u001b[0m\u001b[1;33m\u001b[0m\u001b[0m\n\u001b[0;32m      7\u001b[0m \u001b[1;33m\u001b[0m\u001b[0m\n",
      "\u001b[1;31mTypeError\u001b[0m: unhashable type: 'list'"
     ]
    }
   ],
   "source": [
    "scores = [0] * len(teargas)\n",
    "current_score = 0 \n",
    "\n",
    "for idx, line in enumerate(teargas) :\n",
    "    if text in sentiment_scores :\n",
    "        current_score += sentiment_scores[word.lower()]\n",
    "    \n",
    "    scores[idx] = current_score\n",
    "        \n",
    "    \n",
    "#    if idx > 10000 :\n",
    "#        break"
   ]
  },
  {
   "cell_type": "code",
   "execution_count": 90,
   "metadata": {},
   "outputs": [
    {
     "data": {
      "text/plain": [
       "[\"['@magnetvikki',\",\n",
       " \"'@instablog9ja',\",\n",
       " \"'na',\",\n",
       " \"'man',\",\n",
       " \"'wey',\",\n",
       " \"'return',\",\n",
       " \"'teargas',\",\n",
       " \"'na',\",\n",
       " \"'him',\",\n",
       " \"'we',\",\n",
       " \"'go',\",\n",
       " \"'loyal',\",\n",
       " \"'to']\"]"
      ]
     },
     "execution_count": 90,
     "metadata": {},
     "output_type": "execute_result"
    }
   ],
   "source": [
    "type(text)\n",
    "text"
   ]
  },
  {
   "cell_type": "code",
   "execution_count": 184,
   "metadata": {},
   "outputs": [],
   "source": [
    "with open(\"teargas_scores.txt\",'w') as ofile :\n",
    "    ofile.write(\"word\\tscore\\n\")\n",
    "    for idx, score in enumerate(scores) :\n",
    "        ofile.write(\"\\t\".join([str(idx+1),str(score)]) + \"\\n\")"
   ]
  }
 ],
 "metadata": {
  "kernelspec": {
   "display_name": "Python 3",
   "language": "python",
   "name": "python3"
  },
  "language_info": {
   "codemirror_mode": {
    "name": "ipython",
    "version": 3
   },
   "file_extension": ".py",
   "mimetype": "text/x-python",
   "name": "python",
   "nbconvert_exporter": "python",
   "pygments_lexer": "ipython3",
   "version": "3.8.5"
  }
 },
 "nbformat": 4,
 "nbformat_minor": 4
}
