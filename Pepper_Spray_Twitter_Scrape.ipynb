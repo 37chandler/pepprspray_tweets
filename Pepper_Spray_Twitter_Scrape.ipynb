{
 "cells": [
  {
   "cell_type": "markdown",
   "metadata": {},
   "source": [
    "## Pepper Spray Twitter Scrpe\n",
    "\n",
    "This scrape is designed to gather data for a dataset share and for a senitment analysis for Reflex Protect."
   ]
  },
  {
   "cell_type": "code",
   "execution_count": 1,
   "metadata": {},
   "outputs": [],
   "source": [
    "import datetime\n",
    "import tweepy\n",
    "\n",
    "# I've put my API keys in a .py file called API_keys.py\n",
    "from API_keys import api_key, api_secret, access_token, access_token_secret"
   ]
  },
  {
   "cell_type": "code",
   "execution_count": 2,
   "metadata": {},
   "outputs": [],
   "source": [
    "# Authenticate the Tweepy API\n",
    "auth = tweepy.OAuthHandler(api_key,api_secret)\n",
    "auth.set_access_token(access_token, access_token_secret)\n",
    "api = tweepy.API(auth,wait_on_rate_limit=True)"
   ]
  },
  {
   "cell_type": "code",
   "execution_count": 18,
   "metadata": {},
   "outputs": [],
   "source": [
    "# Note: the search API only goes back 7 days\n",
    "date_end = datetime.date.today()\n",
    "date_start = date_end - datetime.timedelta(days=7)\n",
    "#establishing a dict of search words\n",
    "hashtag_dict = {'teargas' : [],\n",
    "           'pepperspray' : [],\n",
    "           'nonlethal' : [],\n",
    "           'mace' : [],\n",
    "           'selfdefense' : []\n",
    "               }\n",
    "headers = ['hashtag','created_at','screen_name','description','follower_count','full_text']\n",
    "\n",
    "#I decided to put all the search word results in a single txt\n",
    "with open('Sentiment_tweets.txt','w', encoding='utf-8') as outfile:\n",
    "    outfile.write('\\t'.join(headers) + '\\n')\n",
    "    \n",
    "     \n",
    "    for hashtag in hashtag_dict.keys():\n",
    "        search_words = f'{hashtag} since:{date_start} until:{date_end} -filter:retweets'\n",
    "        for idx, item in enumerate(tweepy.Cursor(api.search,\n",
    "               # tweet_mode is defaulted to short, which only holds the first 140 characters of a Tweet.\n",
    "            tweet_mode='extended',\n",
    "            q=search_words,\n",
    "            lang='en').items()):\n",
    "\n",
    "            #print(item)\n",
    "            hashtag_dict[hashtag].append([str(item.created_at),item.user.screen_name,item.user.description,\n",
    "                            item.user.followers_count,item.full_text])\n",
    "            \n",
    "            \n",
    "            outline = str([hashtag,str(item.created_at),item.user.screen_name, item.user.description,\n",
    "                            item.user.followers_count,item.full_text])\n",
    "            outline = outline.strip().split(',')\n",
    "            outfile.write('\\t'.join(outline) + '\\n')\n",
    "            #I'm saving these lines from Jordan's original notebook for future use.\n",
    "            # There's all sort of information you can get from Tweets\n",
    "            # Find more tweet objects here: https://developer.twitter.com/en/docs/twitter-api/v1/data-dictionary/overview/tweet-object\n",
    "            #print(item.user.screen_name)\n",
    "            #print(item.created_at)\n",
    "            #print(item.full_text)\n",
    "            #print('-'*40)\n",
    "\n",
    "\n",
    "            if idx == 10000:\n",
    "                break"
   ]
  }
 ],
 "metadata": {
  "kernelspec": {
   "display_name": "Python 3",
   "language": "python",
   "name": "python3"
  },
  "language_info": {
   "codemirror_mode": {
    "name": "ipython",
    "version": 3
   },
   "file_extension": ".py",
   "mimetype": "text/x-python",
   "name": "python",
   "nbconvert_exporter": "python",
   "pygments_lexer": "ipython3",
   "version": "3.8.5"
  }
 },
 "nbformat": 4,
 "nbformat_minor": 4
}
