{
 "cells": [
  {
   "cell_type": "markdown",
   "metadata": {},
   "source": [
    "## Pepper Spray Twitter Scrpe\n",
    "\n",
    "This scrape is designed to gather data for a dataset share and for a senitment analysis for Reflex Protect."
   ]
  },
  {
   "cell_type": "code",
   "execution_count": 1,
   "metadata": {},
   "outputs": [],
   "source": [
    "import datetime\n",
    "import tweepy\n",
    "\n",
    "# I've put my API keys in a .py file called API_keys.py\n",
    "from API_keys import api_key, api_secret, access_token, access_token_secret"
   ]
  },
  {
   "cell_type": "code",
   "execution_count": 2,
   "metadata": {},
   "outputs": [],
   "source": [
    "# Authenticate the Tweepy API\n",
    "auth = tweepy.OAuthHandler(api_key,api_secret)\n",
    "auth.set_access_token(access_token, access_token_secret)\n",
    "api = tweepy.API(auth,wait_on_rate_limit=True)"
   ]
  },
  {
   "cell_type": "code",
   "execution_count": 14,
   "metadata": {},
   "outputs": [
    {
     "ename": "AttributeError",
     "evalue": "'list' object has no attribute 'strip'",
     "output_type": "error",
     "traceback": [
      "\u001b[1;31m---------------------------------------------------------------------------\u001b[0m",
      "\u001b[1;31mAttributeError\u001b[0m                            Traceback (most recent call last)",
      "\u001b[1;32m<ipython-input-14-6fb4cca7f5b9>\u001b[0m in \u001b[0;36m<module>\u001b[1;34m\u001b[0m\n\u001b[0;32m     31\u001b[0m             outline = [hashtag,str(item.created_at),item.user.screen_name, item.user.description,\n\u001b[0;32m     32\u001b[0m                             item.user.followers_count,item.full_text] #DON'T CAST ENTIRE THING TO STR!!\n\u001b[1;32m---> 33\u001b[1;33m             \u001b[0moutline\u001b[0m \u001b[1;33m=\u001b[0m \u001b[0moutline\u001b[0m\u001b[1;33m.\u001b[0m\u001b[0mstrip\u001b[0m\u001b[1;33m(\u001b[0m\u001b[1;33m)\u001b[0m\u001b[1;33m.\u001b[0m\u001b[0msplit\u001b[0m\u001b[1;33m(\u001b[0m\u001b[1;34m','\u001b[0m\u001b[1;33m)\u001b[0m\u001b[1;33m\u001b[0m\u001b[1;33m\u001b[0m\u001b[0m\n\u001b[0m\u001b[0;32m     34\u001b[0m             \u001b[0moutline\u001b[0m \u001b[1;33m=\u001b[0m \u001b[1;33m[\u001b[0m\u001b[0mstr\u001b[0m\u001b[1;33m(\u001b[0m\u001b[0mitem\u001b[0m\u001b[1;33m)\u001b[0m \u001b[1;32mfor\u001b[0m \u001b[0mitem\u001b[0m \u001b[1;32min\u001b[0m \u001b[0moutline\u001b[0m\u001b[1;33m]\u001b[0m\u001b[1;33m\u001b[0m\u001b[1;33m\u001b[0m\u001b[0m\n\u001b[0;32m     35\u001b[0m             \u001b[1;31m#outline = outline.strip().split(',')\u001b[0m\u001b[1;33m\u001b[0m\u001b[1;33m\u001b[0m\u001b[1;33m\u001b[0m\u001b[0m\n",
      "\u001b[1;31mAttributeError\u001b[0m: 'list' object has no attribute 'strip'"
     ]
    }
   ],
   "source": [
    "# This doesn't work as designed any more because of lines 36-38\n",
    "\n",
    "# Note: the search API only goes back 7 days\n",
    "date_end = datetime.date.today()\n",
    "date_start = date_end - datetime.timedelta(days=7)\n",
    "#establishing a dict of search words\n",
    "hashtag_dict = {'teargas' : [],\n",
    "           'pepperspray' : [],\n",
    "           'nonlethal' : [],\n",
    "           'mace' : [],\n",
    "           'selfdefense' : []\n",
    "               }\n",
    "headers = ['hashtag','created_at','screen_name','description','follower_count','full_text']\n",
    "\n",
    "#I decided to put all the search word results in a single txt\n",
    "with open('20201110_Sentiment_tweets.txt','w', encoding='utf-8') as outfile:\n",
    "    outfile.write('\\t'.join(headers) + '\\n')\n",
    "    \n",
    "     \n",
    "    for hashtag in hashtag_dict.keys():\n",
    "        search_words = f'{hashtag} since:{date_start} until:{date_end} -filter:retweets'\n",
    "        for idx, item in enumerate(tweepy.Cursor(api.search,\n",
    "               # tweet_mode is defaulted to short, which only holds the first 140 characters of a Tweet.\n",
    "            tweet_mode='extended',\n",
    "            q=search_words,\n",
    "            lang='en').items()):\n",
    "\n",
    "            #print(item)\n",
    "            hashtag_dict[hashtag].append([str(item.created_at),item.user.screen_name,item.user.description,\n",
    "                            item.user.followers_count,item.full_text])\n",
    "            \n",
    "            \n",
    "            outline = [hashtag,str(item.created_at),item.user.screen_name, item.user.description,\n",
    "                            item.user.followers_count,item.full_text] #DON'T CAST ENTIRE THING TO STR!!\n",
    "            \n",
    "            outline = [str(item) for item in outline]\n",
    "            #outline = outline.strip().split(',')\n",
    "            outfile.write('\\t'.join(outline) + '\\n')\n",
    "            #I'm saving these lines from Jordan's original notebook for future use.\n",
    "            # There's all sort of information you can get from Tweets\n",
    "            # Find more tweet objects here: https://developer.twitter.com/en/docs/twitter-api/v1/data-dictionary/overview/tweet-object\n",
    "            #print(item.user.screen_name)\n",
    "            #print(item.created_at)\n",
    "            #print(item.full_text)\n",
    "            #print('-'*40)\n",
    "\n",
    "\n",
    "            if idx == 10:\n",
    "                break"
   ]
  }
 ],
 "metadata": {
  "kernelspec": {
   "display_name": "Python 3",
   "language": "python",
   "name": "python3"
  },
  "language_info": {
   "codemirror_mode": {
    "name": "ipython",
    "version": 3
   },
   "file_extension": ".py",
   "mimetype": "text/x-python",
   "name": "python",
   "nbconvert_exporter": "python",
   "pygments_lexer": "ipython3",
   "version": "3.8.5"
  }
 },
 "nbformat": 4,
 "nbformat_minor": 4
}
