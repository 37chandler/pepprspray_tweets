{
 "cells": [
  {
   "cell_type": "code",
   "execution_count": 1,
   "metadata": {},
   "outputs": [],
   "source": [
    "import random\n",
    "import nltk\n",
    "from nltk.sentiment import SentimentAnalyzer\n",
    "from nltk.sentiment.util import *"
   ]
  },
  {
   "cell_type": "code",
   "execution_count": 6,
   "metadata": {},
   "outputs": [],
   "source": [
    "from collections import defaultdict"
   ]
  },
  {
   "cell_type": "code",
   "execution_count": 7,
   "metadata": {},
   "outputs": [],
   "source": [
    "tweets = defaultdict(list) # JC adding this to avoid the five lists."
   ]
  },
  {
   "cell_type": "code",
   "execution_count": 3,
   "metadata": {},
   "outputs": [],
   "source": [
    "sentiment_scores = {}\n",
    "\n",
    "with open(\"tidytext_sentiments.txt\",'r') as infile :\n",
    "    next(infile)\n",
    "    for line in infile.readlines() :\n",
    "        line = line.strip().split(\"\\t\")\n",
    "        if line[1] == \"positive\" :\n",
    "            sentiment_scores[line[0]] = 1\n",
    "        else :\n",
    "            sentiment_scores[line[0]] = -1"
   ]
  },
  {
   "cell_type": "code",
   "execution_count": 8,
   "metadata": {},
   "outputs": [],
   "source": [
    "with open(\"20201019_Sentiment_tweets.txt\",'r', encoding = 'UTF-8') as infile :\n",
    "    next(infile)\n",
    "    for idx, line in enumerate(infile.readlines()) :\n",
    "        line = line.strip().strip(\"[\").strip(\"]\").replace(\"'\",\"\").split(\"\\t\")\n",
    "        line = [element.strip().replace(\"\\\\n\",\" \").replace(\"\\n\",\" \") for element in line]\n",
    "        \n",
    "        keyword = line[0]\n",
    "        tweet = line[5]\n",
    "        \n",
    "        tweets[keyword].append(tweet)            "
   ]
  },
  {
   "cell_type": "code",
   "execution_count": 9,
   "metadata": {},
   "outputs": [
    {
     "name": "stdout",
     "output_type": "stream",
     "text": [
      "teargas\n",
      "@magnetvikki @instablog9ja Na man wey Return teargas na him we go loyal to\n",
      "pepperspray\n",
      "Can you imagine what these \"proud boys\" would do if they had to face riot police with tear gas\n",
      "nonlethal\n",
      "lawyer. Irascible and generally untrustworthy. Business & animal law (service dogs!)\n",
      "mace\n",
      "\"@notluke223 @RedPillRuggs @Just_MeNotYou @CPhillErUp2 @Timcast Yeah\n",
      "selfdefense\n",
      "Reciprocity Maps\n"
     ]
    }
   ],
   "source": [
    "# Let's check our work\n",
    "for kw, tweet_list in tweets.items() :\n",
    "    print(kw)\n",
    "    print(tweet_list[0])"
   ]
  },
  {
   "cell_type": "code",
   "execution_count": 15,
   "metadata": {},
   "outputs": [],
   "source": [
    "# Now let's get some sentiment scores\n",
    "scores = defaultdict(int)\n",
    "\n",
    "for kw, tweet_list in tweets.items() :\n",
    "    for tweet in tweet_list :\n",
    "\n",
    "        tweet = [w.lower() for w in tweet.split()]\n",
    "        \n",
    "        for word in tweet :\n",
    "            if word in sentiment_scores :\n",
    "                scores[kw] += sentiment_scores[word]\n"
   ]
  },
  {
   "cell_type": "code",
   "execution_count": 16,
   "metadata": {},
   "outputs": [
    {
     "data": {
      "text/plain": [
       "defaultdict(int,\n",
       "            {'teargas': -124,\n",
       "             'pepperspray': -15,\n",
       "             'nonlethal': -116,\n",
       "             'mace': -5781,\n",
       "             'selfdefense': 53})"
      ]
     },
     "execution_count": 16,
     "metadata": {},
     "output_type": "execute_result"
    }
   ],
   "source": [
    "scores"
   ]
  },
  {
   "cell_type": "code",
   "execution_count": 184,
   "metadata": {},
   "outputs": [],
   "source": [
    "with open(\"teargas_scores.txt\",'w') as ofile :\n",
    "    ofile.write(\"word\\tscore\\n\")\n",
    "    for idx, score in enumerate(scores) :\n",
    "        ofile.write(\"\\t\".join([str(idx+1),str(score)]) + \"\\n\")"
   ]
  }
 ],
 "metadata": {
  "kernelspec": {
   "display_name": "Python 3",
   "language": "python",
   "name": "python3"
  },
  "language_info": {
   "codemirror_mode": {
    "name": "ipython",
    "version": 3
   },
   "file_extension": ".py",
   "mimetype": "text/x-python",
   "name": "python",
   "nbconvert_exporter": "python",
   "pygments_lexer": "ipython3",
   "version": "3.8.5"
  }
 },
 "nbformat": 4,
 "nbformat_minor": 4
}
